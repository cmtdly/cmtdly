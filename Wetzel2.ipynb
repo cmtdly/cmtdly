{
  "nbformat": 4,
  "nbformat_minor": 0,
  "metadata": {
    "colab": {
      "provenance": [],
      "authorship_tag": "ABX9TyM8jmPtPvJaVT2gSiA8QuxB",
      "include_colab_link": true
    },
    "kernelspec": {
      "name": "python3",
      "display_name": "Python 3"
    },
    "language_info": {
      "name": "python"
    }
  },
  "cells": [
    {
      "cell_type": "markdown",
      "metadata": {
        "id": "view-in-github",
        "colab_type": "text"
      },
      "source": [
        "<a href=\"https://colab.research.google.com/github/cmtdly/cmtdly/blob/main/Wetzel2.ipynb\" target=\"_parent\"><img src=\"https://colab.research.google.com/assets/colab-badge.svg\" alt=\"Open In Colab\"/></a>"
      ]
    },
    {
      "cell_type": "code",
      "execution_count": null,
      "metadata": {
        "id": "TqLlyr6MI4_e"
      },
      "outputs": [],
      "source": [
        "def divideEvenly():\n",
        "  '''\n",
        "  Checks if either of two integers divides the other evenly.\n",
        "  '''\n",
        "  while True:\n",
        "    x = int(input(\"What is your first number? \"))\n",
        "    y = int(input(\"What is your second number? \"))\n",
        "\n",
        "    #Testing if first number (x) will evenly divide second number (y)\n",
        "    if x % y == 0:\n",
        "      print (True, \"\\nYou did it!!!\")\n",
        "      break\n",
        "\n",
        "    #Testing if second number (y) will evenly divide first number (x)\n",
        "    elif y % x == 0:\n",
        "      print (True, \"\\nYou did it!!!\")\n",
        "      break\n",
        "\n",
        "    #if neither evenly divides the other, print result, and prompt for new\n",
        "    else:\n",
        "      print (False, \"\\n...don't give up yet...\")\n",
        "\n",
        "if __name__=='__main__':\n",
        "  divideEvenly()\n"
      ]
    }
  ]
}