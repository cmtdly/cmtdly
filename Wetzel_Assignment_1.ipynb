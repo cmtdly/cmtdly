{
  "nbformat": 4,
  "nbformat_minor": 0,
  "metadata": {
    "colab": {
      "provenance": [],
      "authorship_tag": "ABX9TyNIQkz0KSsFYOPgAg0MUSbu",
      "include_colab_link": true
    },
    "kernelspec": {
      "name": "python3",
      "display_name": "Python 3"
    },
    "language_info": {
      "name": "python"
    }
  },
  "cells": [
    {
      "cell_type": "markdown",
      "metadata": {
        "id": "view-in-github",
        "colab_type": "text"
      },
      "source": [
        "<a href=\"https://colab.research.google.com/github/cmtdly/cmtdly/blob/main/Wetzel_Assignment_1.ipynb\" target=\"_parent\"><img src=\"https://colab.research.google.com/assets/colab-badge.svg\" alt=\"Open In Colab\"/></a>"
      ]
    },
    {
      "cell_type": "markdown",
      "source": [
        "1. Prompt for radius(rad) of a circle\n",
        "2. Calculate the circumference(circ) of a circle with radius(rad)\n",
        "3. Calculate the area(area) of a circle with radius(rad)\n",
        "4. Calculate the volume(vol) of a circle with radius (rad)\n",
        "5. Print the circumference(circ), area(area), and volume(vol)"
      ],
      "metadata": {
        "id": "_fhoFVBg_eRA"
      }
    },
    {
      "cell_type": "code",
      "source": [
        "def circle():\n",
        "  #import math function to be able to use pi\n",
        "  import math\n",
        "\n",
        "  #prompt user for radius of a circle, ensure input is a floating point number\n",
        "  rad = float(input(\"What is the radius of your circle? \"))\n",
        "\n",
        "  #calculate the circumference(circ) of a circle with a radius(rad)\n",
        "  circ = round(2 * math.pi * rad,5)\n",
        "\n",
        "  #calculate the area(area) of a circle with a radius(rad)\n",
        "  area = round(math.pi * rad ** 2,5)\n",
        "\n",
        "  #calculate the volume(vol) of a circle with a radius(rad)\n",
        "  vol = round(4 / 3 * math.pi * rad ** 3,5)\n",
        "\n",
        "  #Print the circumference(circ), area(area), and volume(vol)\n",
        "  print (\"The circumference of a circle with a radius of \" + str(rad) + \" is \" + str(circ))\n",
        "  print (\"The area of a circle with a radius of \" + str(rad) + \" is \" + str(area))\n",
        "  print (\"The volume of a sphere with a radius of \" + str(rad) + \" is \" + str(vol))"
      ],
      "metadata": {
        "id": "3-YrsrjuAsqU"
      },
      "execution_count": null,
      "outputs": []
    }
  ]
}